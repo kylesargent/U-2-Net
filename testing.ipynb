{
 "cells": [
  {
   "cell_type": "code",
   "execution_count": 3,
   "id": "ce58958c",
   "metadata": {},
   "outputs": [
    {
     "name": "stderr",
     "output_type": "stream",
     "text": [
      "/viscam/u/ksarge/mambaforge/envs/u2net/lib/python3.6/site-packages/tqdm/auto.py:22: TqdmWarning: IProgress not found. Please update jupyter and ipywidgets. See https://ipywidgets.readthedocs.io/en/stable/user_install.html\n",
      "  from .autonotebook import tqdm as notebook_tqdm\n"
     ]
    },
    {
     "data": {
      "text/plain": [
       "True"
      ]
     },
     "execution_count": 3,
     "metadata": {},
     "output_type": "execute_result"
    }
   ],
   "source": [
    "import torch\n",
    "torch.cuda.is_available()"
   ]
  },
  {
   "cell_type": "code",
   "execution_count": 39,
   "id": "dcdc775d",
   "metadata": {},
   "outputs": [],
   "source": [
    "import os\n",
    "import glob\n",
    "\n",
    "DATA_PATTERNS = [\n",
    "    \"/viscam/u/ksarge/bike_symbols/*/*/*png\",\n",
    "    \"/viscam/u/ksarge/bike_symbols/*/*/*jpg\",\n",
    "    \"/viscam/u/ksarge/bike_symbols/*/*/*/*jpg\",\n",
    "    \"/viscam/u/ksarge/bike_symbols/*/*/*/*png\",\n",
    "]\n",
    "LABEL_PATTERNS = [\n",
    "    \"/viscam/u/ksarge/bike_symbols/*/*/*json\",\n",
    "    \"/viscam/u/ksarge/bike_symbols/*/*/*/*json\",\n",
    "]\n",
    "\n",
    "def get_files(patterns):\n",
    "    files = [\n",
    "        file\n",
    "        for pattern in patterns\n",
    "        for file in glob.glob(pattern)]\n",
    "    return files\n",
    "\n",
    "def get_files"
   ]
  },
  {
   "cell_type": "code",
   "execution_count": 40,
   "id": "e0a647fd",
   "metadata": {},
   "outputs": [
    {
     "data": {
      "text/plain": [
       "375"
      ]
     },
     "execution_count": 40,
     "metadata": {},
     "output_type": "execute_result"
    }
   ],
   "source": [
    "len(data_files)"
   ]
  },
  {
   "cell_type": "code",
   "execution_count": 31,
   "id": "33217ceb",
   "metadata": {},
   "outputs": [
    {
     "name": "stdout",
     "output_type": "stream",
     "text": [
      "clipping_camera.jpg  README.md\t\t      u2net_portrait_composite.py\r\n",
      "data_loader.py\t     requirements.txt\t      u2net_portrait_demo.py\r\n",
      "figures\t\t     saved_models\t      u2net_portrait_test.py\r\n",
      "gradio\t\t     setup_model_weights.py   u2net_test.py\r\n",
      "LICENSE\t\t     test_data\t\t      u2net_train.py\r\n",
      "model\t\t     testing.ipynb\r\n",
      "__pycache__\t     u2net_human_seg_test.py\r\n"
     ]
    }
   ],
   "source": []
  },
  {
   "cell_type": "code",
   "execution_count": null,
   "id": "017ef224",
   "metadata": {},
   "outputs": [],
   "source": []
  }
 ],
 "metadata": {
  "kernelspec": {
   "display_name": "u2net",
   "language": "python",
   "name": "u2net"
  },
  "language_info": {
   "codemirror_mode": {
    "name": "ipython",
    "version": 3
   },
   "file_extension": ".py",
   "mimetype": "text/x-python",
   "name": "python",
   "nbconvert_exporter": "python",
   "pygments_lexer": "ipython3",
   "version": "3.6.15"
  }
 },
 "nbformat": 4,
 "nbformat_minor": 5
}
